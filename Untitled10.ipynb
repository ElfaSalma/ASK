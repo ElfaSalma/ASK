{
  "nbformat": 4,
  "nbformat_minor": 0,
  "metadata": {
    "colab": {
      "provenance": [],
      "authorship_tag": "ABX9TyOyu5mq/3E1ohpkLBUYJ6ZE",
      "include_colab_link": true
    },
    "kernelspec": {
      "name": "python3",
      "display_name": "Python 3"
    },
    "language_info": {
      "name": "python"
    }
  },
  "cells": [
    {
      "cell_type": "markdown",
      "metadata": {
        "id": "view-in-github",
        "colab_type": "text"
      },
      "source": [
        "<a href=\"https://colab.research.google.com/github/ElfaSalma/ASK/blob/main/Untitled10.ipynb\" target=\"_parent\"><img src=\"https://colab.research.google.com/assets/colab-badge.svg\" alt=\"Open In Colab\"/></a>"
      ]
    },
    {
      "cell_type": "code",
      "source": [
        "#Indices supplémentaires (pair/impair, divisible par un certain nombre, etc.):\n",
        "def donner_indice(nombre_secret):\n",
        "    print(\"Voulez-vous un indice ? (1. Oui / 2. Non)\")\n",
        "    choix = input()\n",
        "\n",
        "    if choix == '1':\n",
        "        print(\"Choisissez votre indice :\")\n",
        "        print(\"1. Est-il pair ou impair ?\")\n",
        "        print(\"2. Est-il divisible par 3, 5 ou 7 ?\")\n",
        "        indice = input(\"Entrez le numéro de l'indice souhaité : \")\n",
        "\n",
        "        if indice == '1':\n",
        "            if nombre_secret % 2 == 0:\n",
        "                print(\"Le nombre est pair.\")\n",
        "            else:\n",
        "                print(\"Le nombre est impair.\")\n",
        "        elif indice == '2':\n",
        "            for diviseur in [3, 5, 7]:\n",
        "                if nombre_secret % diviseur == 0:\n",
        "                    print(f\"Le nombre est divisible par {diviseur}.\")\n",
        "                else:\n",
        "                    print(f\"Le nombre n'est pas divisible par {diviseur}.\")\n",
        "        else:\n",
        "            print(\"Indice non valide.\")\n",
        "    else:\n",
        "        print(\"Pas d'indice cette fois.\")\n"
      ],
      "metadata": {
        "id": "iDdS1DLYqmL9"
      },
      "execution_count": 1,
      "outputs": []
    }
  ]
}